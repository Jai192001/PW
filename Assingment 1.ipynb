{
 "cells": [
  {
   "cell_type": "code",
   "execution_count": 1,
   "id": "0a7608a0-be3d-4242-a790-dbe7f0c3a442",
   "metadata": {},
   "outputs": [
    {
     "name": "stdout",
     "output_type": "stream",
     "text": [
      "34\n"
     ]
    }
   ],
   "source": [
    "#Q5\n",
    "\n",
    "\n",
    "a = 34\n",
    "print(a)"
   ]
  },
  {
   "cell_type": "code",
   "execution_count": 3,
   "id": "d0864f65-db7f-4306-b6a0-0cccc81899a8",
   "metadata": {},
   "outputs": [
    {
     "name": "stdout",
     "output_type": "stream",
     "text": [
      "1790\n"
     ]
    }
   ],
   "source": [
    "a = 1790\n",
    "print(a)"
   ]
  },
  {
   "cell_type": "code",
   "execution_count": 4,
   "id": "0a83ecc0-b5aa-48ed-8100-de78a985d657",
   "metadata": {},
   "outputs": [
    {
     "data": {
      "text/plain": [
       "int"
      ]
     },
     "execution_count": 4,
     "metadata": {},
     "output_type": "execute_result"
    }
   ],
   "source": [
    "type(a)"
   ]
  },
  {
   "cell_type": "code",
   "execution_count": 5,
   "id": "06eb7f34-c5ae-412a-94b8-0b11096d31f9",
   "metadata": {},
   "outputs": [
    {
     "name": "stdout",
     "output_type": "stream",
     "text": [
      "10\n"
     ]
    }
   ],
   "source": [
    "#Q4\n",
    "\n",
    "\n",
    "\n",
    "my_variable = 10\n",
    "print(my_variable) \n"
   ]
  },
  {
   "cell_type": "code",
   "execution_count": 8,
   "id": "a63e94e2-7dab-4f62-bbcb-9a333799da0b",
   "metadata": {},
   "outputs": [
    {
     "name": "stdout",
     "output_type": "stream",
     "text": [
      "I am king\n"
     ]
    }
   ],
   "source": [
    "#Q3\n",
    "\n",
    "\n",
    "XYZ = \"my_CODE\"\n",
    "my_dict = {XYZ: \"I am king\"}\n",
    "\n",
    "print(my_dict[XYZ])\n",
    "\n",
    "#n this example, we have a variable called XYZ, which stores the string value \"my_CODE\". \n",
    "#We then create a dictionary called my_dict with XYZ as the key and the string \"I am king\" as the corresponding value"
   ]
  },
  {
   "cell_type": "code",
   "execution_count": 9,
   "id": "382f620b-491d-4787-b775-f3604988197e",
   "metadata": {},
   "outputs": [
    {
     "ename": "SyntaxError",
     "evalue": "invalid syntax (342649004.py, line 5)",
     "output_type": "error",
     "traceback": [
      "\u001b[0;36m  Cell \u001b[0;32mIn[9], line 5\u001b[0;36m\u001b[0m\n\u001b[0;31m    for = 10\u001b[0m\n\u001b[0m        ^\u001b[0m\n\u001b[0;31mSyntaxError\u001b[0m\u001b[0;31m:\u001b[0m invalid syntax\n"
     ]
    }
   ],
   "source": [
    "#Q2\n",
    "\n",
    "\n",
    "#It shws the syntax error as restricted variable is only use for specific purpose.\n",
    "\n",
    "for = 10"
   ]
  },
  {
   "cell_type": "code",
   "execution_count": null,
   "id": "a605972e-aaf8-4783-81ef-61ea93205a5b",
   "metadata": {},
   "outputs": [],
   "source": []
  }
 ],
 "metadata": {
  "kernelspec": {
   "display_name": "Python 3 (ipykernel)",
   "language": "python",
   "name": "python3"
  },
  "language_info": {
   "codemirror_mode": {
    "name": "ipython",
    "version": 3
   },
   "file_extension": ".py",
   "mimetype": "text/x-python",
   "name": "python",
   "nbconvert_exporter": "python",
   "pygments_lexer": "ipython3",
   "version": "3.10.8"
  }
 },
 "nbformat": 4,
 "nbformat_minor": 5
}
